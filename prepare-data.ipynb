{
 "cells": [
  {
   "cell_type": "markdown",
   "id": "c57480d4-88c0-4033-9e28-7001db1f1d95",
   "metadata": {},
   "source": [
    "# Text to Integer encoding"
   ]
  },
  {
   "cell_type": "code",
   "execution_count": 31,
   "id": "fbadad5a-5952-4098-9cb3-a8a8bb1fae1d",
   "metadata": {},
   "outputs": [],
   "source": [
    "#!pip install nltk"
   ]
  },
  {
   "cell_type": "markdown",
   "id": "1a123e18-a6b3-401f-bb53-08899a8662e7",
   "metadata": {},
   "source": [
    "1. Read textual data\n",
    "2. Generate integer encoding\n",
    "3. Maintain a dictory of the encoding\n",
    "\n",
    "**Working with integers (representing words or unique tokens is much faster than the word strings itself)**\n",
    "\n",
    "*At the end, the integers would be reversed back to their respective words*"
   ]
  },
  {
   "cell_type": "code",
   "execution_count": 41,
   "id": "58d151fd-d21f-4962-8d8c-6c4522af7727",
   "metadata": {},
   "outputs": [
    {
     "name": "stderr",
     "output_type": "stream",
     "text": [
      "[nltk_data] Downloading package stopwords to\n",
      "[nltk_data]     C:\\Users\\khantr\\AppData\\Roaming\\nltk_data...\n",
      "[nltk_data]   Package stopwords is already up-to-date!\n"
     ]
    }
   ],
   "source": [
    "import json\n",
    "\n",
    "import nltk\n",
    "from nltk.corpus import stopwords\n",
    " \n",
    "nltk.download('stopwords')\n",
    "esw = stopwords.words('english')\n",
    "\n",
    "file = open('data/input-data.txt', 'r')\n",
    "rawdata = file.read()\n",
    "file.close()\n",
    "\n",
    "#split on new line and convert to lower case\n",
    "documents = rawdata.split('\\n')\n",
    "documents = [doc.lower() for doc in documents]\n",
    "\n",
    "# Tokenize sentences into words\n",
    "tokenized_documents = [document.lower().split() for document in documents]\n",
    "\n",
    "# Create a dictionary of unique tokens and assign integers\n",
    "dictionary = {}\n",
    "revdictionary = {}\n",
    "index = 0\n",
    "\n",
    "tokenized_documents = [[word for word in doc if word not in esw] for doc in tokenized_documents]\n",
    "\n",
    "for doc in tokenized_documents:\n",
    "    for word in doc:\n",
    "        if word not in dictionary.keys():\n",
    "            dictionary[word] = index\n",
    "            revdictionary[index] = word\n",
    "            index += 1\n",
    "\n",
    "# Replace words in sentences with their corresponding integers\n",
    "encoded_documents = [[dictionary[word] for word in doc] for doc in tokenized_documents]\n",
    "\n",
    "toStr = ''\n",
    "for endoc in encoded_documents:\n",
    "    toStr = toStr + '\\t'.join(str(item) for item in endoc)\n",
    "    toStr = toStr + '\\n'\n",
    "toStr = toStr[:-2]\n",
    "file = open('data/integer-encoded-data.txt', 'w')\n",
    "file.write(toStr)\n",
    "file.close()\n",
    "\n",
    "#write dictionary to file\n",
    "file = open('data/dictionary.json', 'w')\n",
    "file.write(json.dumps(dictionary))\n",
    "file.close()\n",
    "file = open('data/revdictionary.json', 'w')\n",
    "file.write(json.dumps(revdictionary))\n",
    "file.close()"
   ]
  },
  {
   "cell_type": "code",
   "execution_count": null,
   "id": "eaeb6119-1dc5-4ee8-8874-ca799c307501",
   "metadata": {},
   "outputs": [],
   "source": []
  }
 ],
 "metadata": {
  "kernelspec": {
   "display_name": "Python 3 (ipykernel)",
   "language": "python",
   "name": "python3"
  },
  "language_info": {
   "codemirror_mode": {
    "name": "ipython",
    "version": 3
   },
   "file_extension": ".py",
   "mimetype": "text/x-python",
   "name": "python",
   "nbconvert_exporter": "python",
   "pygments_lexer": "ipython3",
   "version": "3.13.0"
  }
 },
 "nbformat": 4,
 "nbformat_minor": 5
}
