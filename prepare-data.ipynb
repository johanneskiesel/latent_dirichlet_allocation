{
 "cells": [
  {
   "cell_type": "code",
   "execution_count": 88,
   "id": "15300e02-e16e-4224-9216-047ec2d22ea9",
   "metadata": {},
   "outputs": [],
   "source": [
    "import json"
   ]
  },
  {
   "cell_type": "markdown",
   "id": "c57480d4-88c0-4033-9e28-7001db1f1d95",
   "metadata": {},
   "source": [
    "Text to Integer encoding"
   ]
  },
  {
   "cell_type": "markdown",
   "id": "1a123e18-a6b3-401f-bb53-08899a8662e7",
   "metadata": {},
   "source": [
    "1. Read textual data\n",
    "2. Generate integer encoding\n",
    "3. Maintain a dictory of the encoding\n",
    "\n",
    "**Working with integers (representing words or unique tokens is much faster than the word strings itself)**\n",
    "\n",
    "*At the end, the integers would be reversed back to their respective words*"
   ]
  },
  {
   "cell_type": "code",
   "execution_count": 89,
   "id": "58d151fd-d21f-4962-8d8c-6c4522af7727",
   "metadata": {},
   "outputs": [],
   "source": [
    "file = open('data/input-data.txt', 'r')\n",
    "rawdata = file.read()\n",
    "file.close()\n",
    "\n",
    "#split on new line and convert to lower case\n",
    "documents = rawdata.split('\\n')\n",
    "documents = [doc.lower() for doc in documents]"
   ]
  },
  {
   "cell_type": "code",
   "execution_count": 100,
   "id": "8a3b7f8e-27e9-404c-85ad-3b725e73d369",
   "metadata": {},
   "outputs": [],
   "source": [
    "# Tokenize sentences into words\n",
    "tokenized_documents = [document.lower().split() for document in documents]\n",
    "\n",
    "# Create a dictionary of unique tokens and assign integers\n",
    "dictionary = {}\n",
    "revdictionary = {}\n",
    "index = 0\n",
    "\n",
    "for doc in tokenized_documents:\n",
    "    for word in doc:\n",
    "        if word not in dictionary.keys():\n",
    "            dictionary[word] = index\n",
    "            revdictionary[index] = word\n",
    "            index += 1\n",
    "\n",
    "# Replace words in sentences with their corresponding integers\n",
    "encoded_documents = [\n",
    "    [dictionary[word] for word in doc] for doc in tokenized_documents]"
   ]
  },
  {
   "cell_type": "code",
   "execution_count": 101,
   "id": "b1f58eb5-57fc-4f01-b80f-59d026790a94",
   "metadata": {},
   "outputs": [],
   "source": [
    "toStr = ''\n",
    "for endoc in encoded_documents:\n",
    "    toStr = toStr + '\\t'.join(str(item) for item in endoc)\n",
    "    toStr = toStr + '\\n'\n",
    "toStr = toStr[:-2]\n",
    "file = open('data/integer-encoded-data.txt', 'w')\n",
    "file.write(toStr)\n",
    "file.close()"
   ]
  },
  {
   "cell_type": "code",
   "execution_count": 102,
   "id": "150e98d7-e96a-43c7-8a62-25df9f8d3a0e",
   "metadata": {},
   "outputs": [],
   "source": [
    "#write dictionary to file\n",
    "file = open('data/dictionary.json', 'w')\n",
    "file.write(json.dumps(dictionary))\n",
    "file.close()\n",
    "file = open('data/revdictionary.json', 'w')\n",
    "file.write(json.dumps(revdictionary))\n",
    "file.close()"
   ]
  },
  {
   "cell_type": "code",
   "execution_count": null,
   "id": "d2f631b5-0ff1-42de-8999-ef89db6c178f",
   "metadata": {},
   "outputs": [],
   "source": []
  }
 ],
 "metadata": {
  "kernelspec": {
   "display_name": "Python 3 (ipykernel)",
   "language": "python",
   "name": "python3"
  },
  "language_info": {
   "codemirror_mode": {
    "name": "ipython",
    "version": 3
   },
   "file_extension": ".py",
   "mimetype": "text/x-python",
   "name": "python",
   "nbconvert_exporter": "python",
   "pygments_lexer": "ipython3",
   "version": "3.13.0"
  }
 },
 "nbformat": 4,
 "nbformat_minor": 5
}
